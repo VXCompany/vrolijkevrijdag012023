{
 "cells": [
  {
   "attachments": {},
   "cell_type": "markdown",
   "metadata": {},
   "source": [
    "## Tensorflow is build on top of numpy\n",
    " NumPy is the fundamental package for scientific computing in Python.\n",
    " At the core of the NumPy package, is the ndarray object. \n",
    " This encapsulates n-dimensional arrays of homogeneous data types,\n",
    "  with many operations being performed in compiled code for performance.\n",
    " see https://numpy.org/devdocs/user/whatisnumpy.html for more information"
   ]
  },
  {
   "cell_type": "code",
   "execution_count": null,
   "metadata": {},
   "outputs": [],
   "source": [
    "import tensorflow as tf\n",
    "import numpy as np\n",
    "\n",
    "print(\"TensorFlow version:\", tf.__version__)"
   ]
  },
  {
   "cell_type": "code",
   "execution_count": null,
   "metadata": {},
   "outputs": [],
   "source": [
    "# create a numpy array\n",
    "a = np.array([-1, 0, 1, 2, 4])\n",
    "print(a)\n",
    "\n",
    "# perform operation\n",
    "sqrtA = np.sqrt(a)\n",
    "print(sqrtA)\n",
    "\n",
    "abs = np.abs(a)\n",
    "print(abs)"
   ]
  },
  {
   "attachments": {},
   "cell_type": "markdown",
   "metadata": {},
   "source": [
    "Conversion between numpy and tensor"
   ]
  },
  {
   "cell_type": "code",
   "execution_count": null,
   "metadata": {},
   "outputs": [],
   "source": [
    "\n",
    "# numpy arrays and tensors can be converted and most tensorflow functions also accept numpy arrays\n",
    "rank_2_tensor = tf.constant([[1, 2],\n",
    "                             [3, 4],\n",
    "                             [5, 6]], dtype=tf.float16)\n",
    "numpy_array = rank_2_tensor.numpy()\n",
    "numpy_array\n",
    "\n",
    "# or use tensor to create numpy\n",
    "rank_2_tensor = tf.constant([[1, 2],\n",
    "                             [3, 4],\n",
    "                             [5, 6]], dtype=tf.float16)\n",
    "print(rank_2_tensor)\n",
    "\n",
    "numpy_array = np.array(rank_2_tensor)\n",
    "print(numpy_array)\n",
    "\n",
    "backtotensor = tf.constant(numpy_array)\n",
    "print(backtotensor)"
   ]
  }
 ],
 "metadata": {
  "kernelspec": {
   "display_name": "Python 3.8.10 64-bit",
   "language": "python",
   "name": "python3"
  },
  "language_info": {
   "codemirror_mode": {
    "name": "ipython",
    "version": 3
   },
   "file_extension": ".py",
   "mimetype": "text/x-python",
   "name": "python",
   "nbconvert_exporter": "python",
   "pygments_lexer": "ipython3",
   "version": "3.8.10 (default, Mar 15 2022, 12:22:08) \n[GCC 9.4.0]"
  },
  "orig_nbformat": 4,
  "vscode": {
   "interpreter": {
    "hash": "916dbcbb3f70747c44a77c7bcd40155683ae19c65e1c03b4aa3499c5328201f1"
   }
  }
 },
 "nbformat": 4,
 "nbformat_minor": 2
}
