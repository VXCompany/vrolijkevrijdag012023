{
 "cells": [
  {
   "attachments": {},
   "cell_type": "markdown",
   "metadata": {},
   "source": [
    "# Machine Learning\n",
    "\n",
    "<img src=\".images/machine_learning.jpg\" width=\"400\">\n",
    "\n",
    "Machines can learn from data without specifically programming them. It is done by using statistics / mathematics and algorithms to detect patterns and inference. \n",
    "\n",
    "## ML:Regression\n",
    "\n",
    "Example: Predict the price of a second hand car based on its characteristics (Age, Brand, etc.)\n",
    "\n",
    "## ML:Classification\n",
    "\n",
    "A big part of machine learning is classification — we want to know what class (a.k.a. group) an observation belongs to. The ability to precisely classify observations is extremely valuable for various business applications like predicting whether a particular user will buy a product or forecasting whether a given loan will default or not.\n",
    "\n",
    "Data science provides a plethora of classification algorithms such as logistic regression, support vector machine, naive Bayes classifier, and decision trees. But near the top of the classifier hierarchy is the **random forest classifier**.\n",
    "\n",
    "## ML:Deep Learning\n",
    "\n",
    "Deep learning is a subset of machine learning, with deep learning you don't have to tell the model what the features of the data are that influence the outcome, it will figure it out by itself. This is the reason deep learning is more usefull for unstructured data like video/audio etc.\n",
    "\n",
    "<img src=\".images/difference_machine_deep_learning.jpeg\" width=\"400\">\n",
    "\n",
    "### Neural Network\n",
    "We will be using artificial neural networks to create a model to predict how an image can be categorized. Tensorflow will help us setup such a network:\n",
    "\n",
    "Image of a artificial neural network\n",
    "\n",
    "<img src=\".images/neuralnetworkanime.gif\" width=\"400\">\n",
    "\n",
    "A neural network is a series of algorithms that endeavors to recognize underlying relationships in a set of data through a process that mimics the way the human brain operates. In this sense, neural networks refer to systems of neurons.\n",
    "\n",
    "# Machine Learning Model\n",
    "\n",
    "## What does a model do?\n",
    "\n",
    "In machine learning, a **model** is a function with learnable parameters that maps an input to an output.\n",
    "The optimal parameters are obtained by training the model on data. \n",
    "\n",
    "A well-trained model will provide an accurate mapping from the input to the desired output.\n",
    "\n",
    "[up next Tensorflow](1_tensor_flow.ipynb)\n",
    "\n"
   ]
  }
 ],
 "metadata": {
  "kernelspec": {
   "display_name": "Python 3 (ipykernel)",
   "language": "python",
   "name": "python3"
  },
  "language_info": {
   "name": "python",
   "version": "3.8.10 (default, Jun 22 2022, 20:18:18) \n[GCC 9.4.0]"
  },
  "orig_nbformat": 4,
  "vscode": {
   "interpreter": {
    "hash": "916dbcbb3f70747c44a77c7bcd40155683ae19c65e1c03b4aa3499c5328201f1"
   }
  }
 },
 "nbformat": 4,
 "nbformat_minor": 2
}
