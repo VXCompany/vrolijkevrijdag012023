{
 "cells": [
  {
   "attachments": {},
   "cell_type": "markdown",
   "metadata": {},
   "source": [
    "# Keras\n",
    "Keras is a python library that builds on the top of TensorFlow\n",
    "It helpers for creating a pipeline (workflow) for building and training the tensorflow model\n",
    "\n",
    "# The Sequential model\n",
    "A Sequential model is appropriate for a plain stack of layers where each layer has exactly one input tensor and one output tensor. The layers are used as a pipeline to build/train the model."
   ]
  },
  {
   "cell_type": "code",
   "execution_count": 1,
   "metadata": {},
   "outputs": [
    {
     "data": {
      "text/plain": [
       "<tf.Tensor: shape=(3, 4), dtype=float32, numpy=\n",
       "array([[ 0.3935445 ,  0.34656996, -0.7464288 ,  0.72775453],\n",
       "       [ 0.3935445 ,  0.34656996, -0.7464288 ,  0.72775453],\n",
       "       [ 0.3935445 ,  0.34656996, -0.7464288 ,  0.72775453]],\n",
       "      dtype=float32)>"
      ]
     },
     "execution_count": 1,
     "metadata": {},
     "output_type": "execute_result"
    }
   ],
   "source": [
    "import tensorflow as tf\n",
    "from tensorflow import keras\n",
    "from keras import layers\n",
    "\n",
    "# Define Sequential model with 3 layers\n",
    "model = keras.Sequential(\n",
    "    [\n",
    "        layers.Dense(2, activation=\"relu\", name=\"layer1\"),\n",
    "        layers.Dense(3, activation=\"relu\", name=\"layer2\"),\n",
    "        layers.Dense(4, name=\"layer3\"),\n",
    "    ])\n",
    "\n",
    "# Call model on a test input\n",
    "x = tf.ones((3, 3))\n",
    "y = model(x)\n",
    "y\n"
   ]
  },
  {
   "attachments": {},
   "cell_type": "markdown",
   "metadata": {},
   "source": [
    "You can also do the same thing without using a sequential model:"
   ]
  },
  {
   "cell_type": "code",
   "execution_count": 3,
   "metadata": {},
   "outputs": [
    {
     "name": "stdout",
     "output_type": "stream",
     "text": [
      "tf.Tensor(\n",
      "[[0.         0.09370887]\n",
      " [0.         0.09370887]\n",
      " [0.         0.09370887]], shape=(3, 2), dtype=float32)\n"
     ]
    },
    {
     "data": {
      "text/plain": [
       "<tf.Tensor: shape=(3, 4), dtype=float32, numpy=\n",
       "array([[-0.01194037,  0.06347702, -0.119874  ,  0.00721825],\n",
       "       [-0.01194037,  0.06347702, -0.119874  ,  0.00721825],\n",
       "       [-0.01194037,  0.06347702, -0.119874  ,  0.00721825]],\n",
       "      dtype=float32)>"
      ]
     },
     "execution_count": 3,
     "metadata": {},
     "output_type": "execute_result"
    }
   ],
   "source": [
    "# Create 3 layers\n",
    "layer1 = layers.Dense(2, activation=\"relu\", name=\"layer1\")\n",
    "layer2 = layers.Dense(3, activation=\"relu\", name=\"layer2\")\n",
    "layer3 = layers.Dense(4, name=\"layer3\")\n",
    "\n",
    "# Call layers on a test input\n",
    "x = tf.ones((3, 3))\n",
    "print(layer1(x))\n",
    "\n",
    "# In a model the output of one layer is used as input in the next layer as we can simulate here\n",
    "y = layer3(layer2(layer1(x)))\n",
    "y"
   ]
  },
  {
   "attachments": {},
   "cell_type": "markdown",
   "metadata": {},
   "source": [
    "Advanced: If you have more than one input Tensor you cannot use the Sequential model and need to use the Functional API"
   ]
  },
  {
   "cell_type": "code",
   "execution_count": null,
   "metadata": {},
   "outputs": [],
   "source": [
    "#advanced example defining you own inputs\n",
    "inputs = tf.keras.Input(shape=(3,))\n",
    "x = tf.keras.layers.Dense(4, activation=tf.nn.relu)(inputs)\n",
    "outputs = tf.keras.layers.Dense(5, activation=tf.nn.softmax)(x)\n",
    "model = tf.keras.Model(inputs=inputs, outputs=outputs)"
   ]
  },
  {
   "attachments": {},
   "cell_type": "markdown",
   "metadata": {},
   "source": [
    "# But what does the layers.Dense() function do?\n",
    "\n",
    "[Neural Networks explained (youtube deeplizard)](https://youtu.be/sZAlS3_dnk0)\n",
    "\n",
    "\n",
    "A Dense layer feeds all outputs from the previous layer to all its neurons, each neuron providing one output to the next layer. It's the most basic layer in neural networks. A Dense(10) has ten neurons.\n",
    "\n",
    "These are the terms you need to study to better understand a neural network\n",
    "* [Weights]()\n",
    "* [Loss](https://youtu.be/Skc8nqJirJg) function (uses [Gradients](2_tensor_basics.ipynb#Gradients))\n",
    "* [How is the network learning](https://youtu.be/_N5kpSMDf4o)\n",
    "* [Backpropagation(optional)](https://youtu.be/sZAlS3_dnk0) (uses learnable variables)\n",
    "* [Bias(optional)](https://youtu.be/HetFihsXSys)\n",
    "\n",
    "\n",
    "It is also a delegate function you can configure by specifying the parameters of the Dense function:\n",
    "\n",
    "output = activation(dot(input, kernel) + bias)\n",
    "\n",
    "where\n",
    "* input: represent the input data\n",
    "* kernel: represent the weight data\n",
    "* dot: represent numpy dot product of all input and its corresponding weights\n",
    "* bias: represent a biased value used in machine learning to optimize the model\n",
    "* activation: represent the activation function."
   ]
  },
  {
   "attachments": {},
   "cell_type": "markdown",
   "metadata": {},
   "source": [
    "This is what the function \"dot(input, kernel)\" in a Dense layer looks like:"
   ]
  },
  {
   "cell_type": "code",
   "execution_count": null,
   "metadata": {},
   "outputs": [],
   "source": [
    "import numpy as np \n",
    "input = [ [1, 2], [3, 4] ] \n",
    "kernel = [ [0.5, 0.75], [0.25, 0.5] ] \n",
    "result = np.dot(input, kernel) # product of 2 arrays\n",
    "result # array([[1. , 1.75], [2.5 , 4.25]])"
   ]
  },
  {
   "attachments": {},
   "cell_type": "markdown",
   "metadata": {},
   "source": [
    "Examining the model layers input and output"
   ]
  },
  {
   "cell_type": "code",
   "execution_count": null,
   "metadata": {},
   "outputs": [],
   "source": [
    "print(model.summary())"
   ]
  },
  {
   "attachments": {},
   "cell_type": "markdown",
   "metadata": {},
   "source": [
    "Examining input and ouput\n",
    "\n",
    "*There is no argument available to specify the input_shape of the input data. \n",
    "input_shape is a special argument, which the layer will accept only if it is designed as first layer in the model.*\n"
   ]
  },
  {
   "cell_type": "code",
   "execution_count": null,
   "metadata": {},
   "outputs": [],
   "source": [
    "print(\"layer0:input\",model.layers[0].input_shape)\n",
    "print(\"layer0:output\",model.layers[0].output_shape)\n",
    "print(\"               v v \")\n",
    "print(\"layer1:input\",model.layers[1].input_shape)\n",
    "print(\"layer1:output\",model.layers[1].output_shape)\n",
    "print(\"               v v \")\n",
    "print(\"layer2:input\",model.layers[2].input_shape)\n",
    "print(\"layer2:output\",model.layers[2].output_shape, \"\\n\")\n",
    "\n",
    "print(\"layer0:weights\", model.layers[0].get_weights())\n",
    "print(\"layer1:weights\",model.layers[1].get_weights())\n",
    "\n",
    "#print(\"layer1:config\",model.layers[1].get_config())\n"
   ]
  },
  {
   "attachments": {},
   "cell_type": "markdown",
   "metadata": {},
   "source": [
    "add one layer and use model.predict to get result \n",
    "\n",
    "conv2d gives a list of feature maps\n",
    "\n",
    "https://pysource.com/2022/08/02/feature-map-computer-vision-with-keras-p-4/\n",
    "\n",
    "extract features each feature extracts one characteristic of the thing where trying to find"
   ]
  }
 ],
 "metadata": {
  "kernelspec": {
   "display_name": "Python 3.8.10 64-bit",
   "language": "python",
   "name": "python3"
  },
  "language_info": {
   "codemirror_mode": {
    "name": "ipython",
    "version": 3
   },
   "file_extension": ".py",
   "mimetype": "text/x-python",
   "name": "python",
   "nbconvert_exporter": "python",
   "pygments_lexer": "ipython3",
   "version": "3.8.10 (default, Jun 22 2022, 20:18:18) \n[GCC 9.4.0]"
  },
  "orig_nbformat": 4,
  "vscode": {
   "interpreter": {
    "hash": "916dbcbb3f70747c44a77c7bcd40155683ae19c65e1c03b4aa3499c5328201f1"
   }
  }
 },
 "nbformat": 4,
 "nbformat_minor": 2
}
