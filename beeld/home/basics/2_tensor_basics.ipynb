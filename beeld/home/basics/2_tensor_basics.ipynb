{
 "cells": [
  {
   "attachments": {},
   "cell_type": "markdown",
   "metadata": {},
   "source": [
    "## What is a Tensor?\n",
    "Tensors are multi-dimensional arrays with a uniform type (called a **dtype**)\n",
    "\n",
    "*Most machine learning problems can be reduced to analysing data in the shape of a maxtrix/array. In the matrix each dimension of the array is some aspect of the problem the machine has to learn about in order to make predictions or recognize something*\n",
    "\n",
    "Tensors have shapes. Some vocabulary:\n",
    "\n",
    " * **Shape**: The length (number of elements) of each of the axes of a tensor.\n",
    "\n",
    " * **Rank**: Number of tensor axes. A scalar has rank 0, a vector has rank 1, a matrix is rank 2 or higher. The rank of a tensor is the number of indices required to uniquely select each element of the tensor. Rank is also known as \"order\", \"degree\", or \"ndims.\"\n",
    "\n",
    " * **Axis** or Dimension: A particular dimension of a tensor.\n",
    "\n",
    " * **Size**: The total number of items in the tensor, the product of the shape vector's elements."
   ]
  },
  {
   "cell_type": "code",
   "execution_count": null,
   "metadata": {},
   "outputs": [],
   "source": [
    "import tensorflow as tf\n",
    "\n",
    "print(\"TensorFlow version:\", tf.__version__)"
   ]
  },
  {
   "cell_type": "code",
   "execution_count": null,
   "metadata": {},
   "outputs": [],
   "source": [
    "rank_0_tensor = tf.constant(4)\n",
    "print(\"rank_0:\", rank_0_tensor)\n",
    "\n",
    "# Let's make this a float tensor.\n",
    "rank_1_tensor = tf.constant([2.0, 3.0, 4.0])\n",
    "print(\"rank_1:\", rank_1_tensor)\n",
    "\n",
    "# If you want to be specific, you can set the dtype (see below) at creation time\n",
    "rank_2_tensor = tf.constant([[1, 2],\n",
    "                             [3, 4],\n",
    "                             [5, 6]], dtype=tf.float16)\n",
    "print(\"rank_2:\", rank_2_tensor)\n",
    "\n",
    "# There can be an arbitrary number of\n",
    "# axes (sometimes called \"dimensions\")\n",
    "rank_3_tensor = tf.constant([\n",
    "  [[0, 1, 2, 3, 4],\n",
    "   [5, 6, 7, 8, 9]],\n",
    "  [[10, 11, 12, 13, 14],\n",
    "   [15, 16, 17, 18, 19]],\n",
    "  [[20, 21, 22, 23, 24],\n",
    "   [25, 26, 27, 28, 29]],])\n",
    "\n",
    "print(\"rank_3:\", rank_3_tensor)"
   ]
  },
  {
   "attachments": {},
   "cell_type": "markdown",
   "metadata": {},
   "source": [
    "Tensorflow has many operations that can be performed on tensors"
   ]
  },
  {
   "cell_type": "code",
   "execution_count": null,
   "metadata": {},
   "outputs": [],
   "source": [
    "# init some tensors\n",
    "a = tf.constant([[1, 1],\n",
    "                 [1, 1]]) # Could have also said `tf.ones([2,2])`\n",
    "b = tf.ones([2,2], dtype=tf.int32)\n",
    "c = tf.constant([[1, 2],\n",
    "                 [3, 4]])\n",
    "\n",
    "# many math matical operations!\n",
    "print(\"add: \", tf.add(b, c))\n",
    "print(\"element by element multiplication: \", tf.multiply(c, c))\n",
    "print(\"same with operator overload: \", (c * c)) # these are actually numpy operators (see 3_tensor_numpy.ipynb)\n",
    "print(\"conventional matrix multiplication:\", (c @ c))\n",
    "print(\"subtract: \", tf.subtract(b, a))"
   ]
  },
  {
   "attachments": {},
   "cell_type": "markdown",
   "metadata": {},
   "source": [
    "# Tensor equality"
   ]
  },
  {
   "cell_type": "code",
   "execution_count": null,
   "metadata": {},
   "outputs": [],
   "source": [
    "abElementsEqual = tf.equal(a, b)\n",
    "print(\"a and b compared by element:\", abElementsEqual, \"\\n\")\n",
    "\n",
    "acElementsEqual = tf.equal(a, c)\n",
    "print(\"a and c compared by element:\", acElementsEqual, \"\\n\")\n",
    "\n",
    "allElementsAreEqual = tf.reduce_all(abElementsEqual)\n",
    "print(\"a/b reduced/flattened:\", allElementsAreEqual)\n",
    "\n",
    "anyElementsAreEqual = tf.reduce_any(acElementsEqual)\n",
    "print(\"a/c some are equal:\", anyElementsAreEqual)\n",
    "\n",
    "if allElementsAreEqual:\n",
    "    print(\"a == b\")"
   ]
  },
  {
   "attachments": {},
   "cell_type": "markdown",
   "metadata": {},
   "source": [
    "[up next numpy](3_tensor_numpy.ipynb)"
   ]
  }
 ],
 "metadata": {
  "kernelspec": {
   "display_name": "Python 3 (ipykernel)",
   "language": "python",
   "name": "python3"
  },
  "language_info": {
   "codemirror_mode": {
    "name": "ipython",
    "version": 3
   },
   "file_extension": ".py",
   "mimetype": "text/x-python",
   "name": "python",
   "nbconvert_exporter": "python",
   "pygments_lexer": "ipython3",
   "version": "3.8.10"
  },
  "orig_nbformat": 4,
  "vscode": {
   "interpreter": {
    "hash": "916dbcbb3f70747c44a77c7bcd40155683ae19c65e1c03b4aa3499c5328201f1"
   }
  }
 },
 "nbformat": 4,
 "nbformat_minor": 2
}
